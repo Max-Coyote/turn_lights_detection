{
 "cells": [
  {
   "cell_type": "code",
   "execution_count": null,
   "id": "d1733b08-9071-4838-822c-2452a6f18793",
   "metadata": {},
   "outputs": [],
   "source": [
    "#find cars, busses and trucks on video, crop and save to folder"
   ]
  },
  {
   "cell_type": "code",
   "execution_count": 2,
   "id": "66803ba1-da15-4cbe-965c-88c8051b5b3a",
   "metadata": {
    "tags": []
   },
   "outputs": [
    {
     "name": "stderr",
     "output_type": "stream",
     "text": [
      "Using cache found in /home/madmax/.cache/torch/hub/ultralytics_yolov5_master\n"
     ]
    },
    {
     "name": "stdout",
     "output_type": "stream",
     "text": [
      "\u001b[31m\u001b[1mrequirements:\u001b[0m /home/madmax/.cache/torch/hub/requirements.txt not found, check failed.\n"
     ]
    },
    {
     "name": "stderr",
     "output_type": "stream",
     "text": [
      "YOLOv5 🚀 2023-4-20 Python-3.8.10 torch-2.0.0+cu118 CUDA:0 (NVIDIA GeForce GTX 1080, 8117MiB)\n",
      "\n",
      "Fusing layers... \n",
      "YOLOv5s summary: 213 layers, 7225885 parameters, 0 gradients\n",
      "Adding AutoShape... \n"
     ]
    }
   ],
   "source": [
    "import torch\n",
    "import cv2\n",
    "\n",
    "# Model\n",
    "\n",
    "model = torch.hub.load('ultralytics/yolov5', 'yolov5s', pretrained=True)\n",
    "saving_path = \"/home/madmax/Documents/SK_articles/to_git/back_cars/\"\n",
    "# Inference\n",
    "global counter \n",
    "counter = 0\n"
   ]
  },
  {
   "cell_type": "code",
   "execution_count": 4,
   "id": "29399394-1207-4317-8378-c46116cd656b",
   "metadata": {
    "tags": []
   },
   "outputs": [],
   "source": [
    "def cut_and_save(img,xmin, xmax,ymin,ymax,cadr, saving_path):\n",
    "     global counter\n",
    "     #cv2.imwrite(\"before.png\",img)\n",
    "     #cropped_image = img[int(xmin):int(xmax), int(ymin):int(ymax)]\n",
    "     cropped_image = img[int(ymin):int(ymax), int(xmin):int(xmax)]\n",
    "     dim = (200, 200)\n",
    "     resized = cv2.resize(cropped_image, dim, interpolation = cv2.INTER_AREA)\n",
    "     #print(counter)\n",
    "     cv2.imwrite(saving_path + str(cadr) + \"_\"+\"image\"+str(counter)+\".png\",resized)\n",
    "     print(\"saving: \" + saving_path + str(cadr) + \"_\"+\"image\"+str(counter)+\".png\")"
   ]
  },
  {
   "cell_type": "code",
   "execution_count": 21,
   "id": "33460a03-e049-4c04-99d8-86f20f1eb49d",
   "metadata": {
    "tags": []
   },
   "outputs": [],
   "source": [
    "def find_and_save(model, image,cadr, saving_path):\n",
    "    global counter\n",
    "    result_data = model(image).pandas().xyxy[0]\n",
    "        \n",
    "    for i in range (len(result_data['class'])):\n",
    "       if ((result_data['class'][i] == 2 ) or (result_data['class'][i] == 5 ) or (result_data['class'][i] == 7) )   and (result_data['confidence'][i] > 0.4 ):\n",
    "           print(counter)       \n",
    "           cut_and_save(image, result_data['xmin'][i], result_data['xmax'][i], result_data['ymin'][i], result_data['ymax'][i],cadr, saving_path)\n",
    "           counter+=1\n",
    "         \n",
    "    "
   ]
  },
  {
   "cell_type": "code",
   "execution_count": 1,
   "id": "3575a45d-540f-4a82-971c-0a6f6ef0c4be",
   "metadata": {
    "tags": []
   },
   "outputs": [],
   "source": [
    "#find and save from video\n",
    "video = False\n",
    "if video:\n",
    "    cap = cv2.VideoCapture('/home/madmax/Documents/SK_articles/my datasets/VIdeoReg/город_вечер_1.mp4')\n",
    "\n",
    "    stopper = 0\n",
    "    while(cap.isOpened()):  \n",
    "        _, frame = cap.read() \n",
    "        if (stopper > 1200):\n",
    "      #  stopper = 0\n",
    "      #if (stopper == 0):\n",
    "          try:\n",
    "            find_and_save(model,frame,stopper, saving_path)\n",
    "\n",
    "          except:\n",
    "            pass\n",
    "        stopper+=1\n",
    "\n",
    "\n"
   ]
  },
  {
   "cell_type": "code",
   "execution_count": 23,
   "id": "652a2c00-b7d5-4d3a-9b98-b9ac850c4cde",
   "metadata": {
    "tags": []
   },
   "outputs": [
    {
     "name": "stdout",
     "output_type": "stream",
     "text": [
      "8\n",
      "/home/madmax/Pictures/cars/2009 Toyota Prius (UK) 005.jpg\n",
      "3058\n",
      "saving: /home/madmax/Documents/SK_articles/to_git/back_cars/0_image3058.png\n",
      "/home/madmax/Pictures/cars/4383.jpg\n",
      "3059\n",
      "saving: /home/madmax/Documents/SK_articles/to_git/back_cars/1_image3059.png\n",
      "/home/madmax/Pictures/cars/5411b53bb28e56d8da4e32780b0cab97.jpg\n",
      "3060\n",
      "saving: /home/madmax/Documents/SK_articles/to_git/back_cars/2_image3060.png\n",
      "3061\n",
      "saving: /home/madmax/Documents/SK_articles/to_git/back_cars/2_image3061.png\n",
      "3062\n",
      "saving: /home/madmax/Documents/SK_articles/to_git/back_cars/2_image3062.png\n",
      "3063\n",
      "saving: /home/madmax/Documents/SK_articles/to_git/back_cars/2_image3063.png\n",
      "3064\n",
      "saving: /home/madmax/Documents/SK_articles/to_git/back_cars/2_image3064.png\n",
      "3065\n",
      "saving: /home/madmax/Documents/SK_articles/to_git/back_cars/2_image3065.png\n",
      "3066\n",
      "saving: /home/madmax/Documents/SK_articles/to_git/back_cars/2_image3066.png\n",
      "3067\n",
      "saving: /home/madmax/Documents/SK_articles/to_git/back_cars/2_image3067.png\n",
      "3068\n",
      "saving: /home/madmax/Documents/SK_articles/to_git/back_cars/2_image3068.png\n",
      "/home/madmax/Pictures/cars/559c072075d14f8c5af41686e11f6bf1.fabdd227f217009f3676160929e19b81.jpg\n",
      "3069\n",
      "saving: /home/madmax/Documents/SK_articles/to_git/back_cars/3_image3069.png\n",
      "3070\n",
      "saving: /home/madmax/Documents/SK_articles/to_git/back_cars/3_image3070.png\n",
      "/home/madmax/Pictures/cars/Sobol_5.jpg\n",
      "3071\n",
      "saving: /home/madmax/Documents/SK_articles/to_git/back_cars/4_image3071.png\n",
      "/home/madmax/Pictures/cars/big_63039_6.jpeg\n",
      "3072\n",
      "saving: /home/madmax/Documents/SK_articles/to_git/back_cars/5_image3072.png\n",
      "/home/madmax/Pictures/cars/ima22ges.jpeg\n",
      "3073\n",
      "saving: /home/madmax/Documents/SK_articles/to_git/back_cars/6_image3073.png\n",
      "/home/madmax/Pictures/cars/images.jpeg\n",
      "3074\n",
      "saving: /home/madmax/Documents/SK_articles/to_git/back_cars/7_image3074.png\n"
     ]
    }
   ],
   "source": [
    "#all files in folder\n",
    "import os\n",
    "stopper = 0\n",
    "arr = os.listdir('/home/madmax/Pictures/cars/')\n",
    "arr.sort()\n",
    "print(len(arr))\n",
    "for img_namepath in arr:\n",
    "    print(\"/home/madmax/Pictures/cars/\"+img_namepath)\n",
    "    frame = cv2.imread(\"/home/madmax/Pictures/cars/\"+img_namepath)    \n",
    "    find_and_save(model,frame, stopper, saving_path)\n",
    "    stopper += 1"
   ]
  }
 ],
 "metadata": {
  "kernelspec": {
   "display_name": "Python 3 (ipykernel)",
   "language": "python",
   "name": "python3"
  },
  "language_info": {
   "codemirror_mode": {
    "name": "ipython",
    "version": 3
   },
   "file_extension": ".py",
   "mimetype": "text/x-python",
   "name": "python",
   "nbconvert_exporter": "python",
   "pygments_lexer": "ipython3",
   "version": "3.8.10"
  }
 },
 "nbformat": 4,
 "nbformat_minor": 5
}
