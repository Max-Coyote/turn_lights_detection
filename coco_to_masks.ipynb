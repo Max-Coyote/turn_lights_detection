{
 "cells": [
  {
   "cell_type": "code",
   "execution_count": 32,
   "id": "32f12feb-878f-4886-af90-5f5f9cfbcf4a",
   "metadata": {
    "tags": []
   },
   "outputs": [],
   "source": [
    "#converting coco dataset to masks"
   ]
  },
  {
   "cell_type": "code",
   "execution_count": 1,
   "id": "2071d117-1828-4cf5-9803-f5b0d3ad214f",
   "metadata": {
    "tags": []
   },
   "outputs": [],
   "source": [
    "import os\n",
    "\n",
    "\n",
    "\n",
    "#path to final dataset\n",
    "path = \"/home/madmax/Documents/SK_articles/to_git/final_dataset/\"\n",
    "\n",
    "#os.mkdir(path + \"/new\") "
   ]
  },
  {
   "cell_type": "code",
   "execution_count": 2,
   "id": "04d6caa6-c123-41d2-b5af-717aa98582d9",
   "metadata": {
    "tags": []
   },
   "outputs": [],
   "source": [
    "%matplotlib inline\n",
    "from pycocotools.coco import COCO\n",
    "import numpy as np\n",
    "import skimage.io as io\n",
    "import matplotlib.pyplot as plt\n",
    "import pylab"
   ]
  },
  {
   "cell_type": "code",
   "execution_count": 3,
   "id": "1bbd0415-a385-4511-8f5c-08c35cffbf0e",
   "metadata": {
    "tags": []
   },
   "outputs": [],
   "source": [
    "dataDir='/home/madmax/Documents/SK_articles/to_git/all_car_data/coco_dataset_1/'\n",
    "dataType=''\n",
    "annFile='{}annotations/instances{}.json'.format(dataDir,dataType)"
   ]
  },
  {
   "cell_type": "code",
   "execution_count": 4,
   "id": "750d56bd-80d0-4b97-a191-762ef3f8674d",
   "metadata": {
    "tags": []
   },
   "outputs": [
    {
     "name": "stdout",
     "output_type": "stream",
     "text": [
      "loading annotations into memory...\n",
      "Done (t=0.08s)\n",
      "creating index...\n",
      "index created!\n"
     ]
    }
   ],
   "source": [
    "coco=COCO(annFile)"
   ]
  },
  {
   "cell_type": "code",
   "execution_count": 5,
   "id": "10f260d4-d848-4db9-9772-6df0583478bb",
   "metadata": {
    "tags": []
   },
   "outputs": [
    {
     "name": "stdout",
     "output_type": "stream",
     "text": [
      "COCO categories: \n",
      "_background_ back_bumper back_glass back_left_door left_back_turn_light front_left_turn_light front_right_turn_light right_back_turn_light trunk wheel back_right_door back_right_light front_bumper front_glass front_left_door front_left_light front_right_door back_left_light tailgate front_right_light hood left_mirror right_mirror\n",
      "\n",
      "COCO supercategories: \n",
      "_background_ back_bumper back_glass front_left_turn_light front_bumper left_back_turn_light right_back_turn_light front_right_light trunk hood wheel front_left_light tailgate back_right_door front_left_door front_glass back_left_light left_mirror front_right_turn_light back_right_light front_right_door right_mirror back_left_door\n"
     ]
    }
   ],
   "source": [
    "# display COCO categories and supercategories\n",
    "cats = coco.loadCats(coco.getCatIds())\n",
    "nms=[cat['name'] for cat in cats]\n",
    "print('COCO categories: \\n{}\\n'.format(' '.join(nms)))\n",
    "\n",
    "nms = set([cat['supercategory'] for cat in cats])\n",
    "print('COCO supercategories: \\n{}'.format(' '.join(nms)))"
   ]
  },
  {
   "cell_type": "code",
   "execution_count": 6,
   "id": "db2cf4be-cb08-49d8-b1ce-8a221b255bd6",
   "metadata": {
    "tags": []
   },
   "outputs": [
    {
     "name": "stdout",
     "output_type": "stream",
     "text": [
      "[295282688, 295282690, 295282692, 295282693, 295282694, 295282695, 295282697, 295282698, 295282700, 295282701, 295282705, 295282706, 295282708, 295282709, 295282710, 295282712, 295282713, 295282714, 295282720, 295282722, 295282723, 295282725, 295282729, 295282730, 295282732, 295282733, 295282735, 295282737, 295282739, 295282742, 295282743, 295282744, 295282747, 295282748, 295282753, 295282757, 295282758, 295282759, 295282760, 295282762, 295282763, 295282764, 295282765, 295282766, 295282768, 295282773, 295282775, 295282782, 295282784, 295282785, 295282788, 295282790, 295282792, 295282795, 295282796, 295282799, 295282801, 295282804, 295282806, 295282809, 295282810, 295282812, 295282813, 295282817, 295282820, 295282823, 295282826, 295282830, 295282831, 295282832, 295282834, 295282835, 295282836, 295282838, 295282843, 295282846, 295282849, 295282850, 295282851, 295282859, 295282860, 295282861, 295282862, 295282863, 295282865, 295282866, 295282870, 295282874, 295282877, 295282878, 295282882, 295282883, 295282885, 295282886, 295282891, 295282892, 295282895, 295282897, 295282899, 295282900, 295282905, 295282906, 296659350, 296659351, 296659352, 296659353, 296659355, 296659356, 296659358, 296659359, 296640953, 296616754, 296616755, 296616756, 296616757, 296610947, 296610952, 295279753, 295279754, 295279755, 296610953, 296610954, 296610955, 296610956, 296610957, 296610958, 296610959, 296610960, 296610961, 296610962, 295279766, 296610963, 295279776, 295279777, 295279782, 295279783, 295279786, 295279787, 295279791, 295279795, 295279801, 295279809, 295279816, 295279821, 295279824, 295279826, 295279841, 295279851, 295279855, 295279860, 295279863, 295279865, 295279866, 295279867, 295279868, 295279870, 295279872, 295279877, 295279878, 295279882, 295279886, 295279887, 295279888, 295279889, 295279890, 295279893, 295279895, 295279897, 295279899, 295279900, 295279901, 295279902, 295279905, 295279907, 295279908, 295279910, 295279912, 295279919, 295279920, 295279926, 295279932, 295279933, 295279939, 295279944, 295279946, 295279951, 295279954, 295279964, 295279965, 295279975, 295279976, 295279979, 295279981, 295279986, 295279987, 295279991, 295279993, 295279996, 295279998, 295279999, 295280004, 295280005, 295280007, 295280011, 295280014, 295280015, 295280016, 295280019, 295288215, 295288216, 295280025, 295288217, 295280027, 295288218, 295288219, 295288220, 295288221, 295288222, 295288223, 295288224, 295280040, 295280042, 295280043, 295280053, 295280056, 295280058, 295280071, 295280075, 295280077, 295280078, 295493077, 295493078, 295493079, 295493080, 295493081, 295493082, 295280091, 295493083, 295493084, 295493085, 295493086, 295493087, 295493088, 295493089, 295280102, 295280116, 295280117, 295280119, 295280120, 295280124, 295280127, 295280128, 295280130, 295280133, 295280140, 295280145, 295282320, 295282326, 295282328, 295282336, 295282343, 295282348, 295282350, 295282354, 295282361, 295282364, 295282369, 295282372, 295282373, 295282376, 295282381, 295282382, 295282386, 295282387, 295282389, 295282392, 295282396, 295282397, 295282400, 295282401, 295282402, 295282409, 295282410, 295282411, 295282414, 295282417, 295282421, 295282422, 295282423, 295282426, 295282432, 295282436, 295282439, 295282441, 295282443, 295282451, 295282454, 295282456, 295282463, 295282464, 295282473, 295282474, 295282475, 295282479, 295282480, 295282482, 295282484, 295282485, 295282486, 295282487, 295282488, 295282489, 295282493, 295282495, 295282496, 295282499, 295282504, 295282505, 295282507, 295282508, 295282509, 295282510, 295282511, 295282512, 295282513, 295282514, 295282516, 295282518, 295282519, 295282521, 295282522, 295282524, 295282525, 295282526, 295282527, 295282528, 295282530, 295282531, 295282534, 295282535, 295282538, 295282539, 295282540, 295282542, 295282543, 295282544, 295282545, 295282547, 295282548, 295282550, 295282551, 295282553, 295282554, 295282555, 295282556, 295282557, 295282560, 295282562, 295282564, 295282565, 295282566, 295282568, 295282569, 295282570, 295282571, 295282572, 295282573, 295282575, 295282577, 295282581, 295282583, 295282585, 295282586, 295282587, 295282588, 295282590, 295282591, 295282592, 295282595, 295282598, 295282602, 295282605, 295282607, 295282609, 295282610, 295282612, 295282615, 295282616, 295282617, 295282619, 295282621, 295282623, 295282624, 295282626, 295282627, 295282630, 295282632, 295282633, 295282635, 295282638, 295282640, 295282642, 295282644, 295282647, 295282649, 295282650, 295282651, 295282654, 295282658, 295282661, 295282662, 295282663, 295282664, 295282665, 295282667, 295282669, 295282670, 295282672, 295282673, 295282674, 295282676, 295282678, 295282680, 295282681, 295282682, 295282685, 295282686, 295282687]\n"
     ]
    }
   ],
   "source": [
    "#back_left_light back_right_light front_left_light front_right_light \n",
    "catIds = coco.getCatIds(catNms=['back_left_light'])\n",
    "imgIds = coco.getImgIds(catIds=catIds)\n",
    "print(imgIds)\n",
    "img = coco.loadImgs(imgIds[0])[0]"
   ]
  },
  {
   "cell_type": "code",
   "execution_count": 7,
   "id": "6950a0e3-a7e8-4309-9813-f765fee779f8",
   "metadata": {
    "tags": []
   },
   "outputs": [],
   "source": [
    "def make_img_dirs_and_masks(class_name, dataset, path):\n",
    "    catIds = dataset.getCatIds(catNms=[class_name])\n",
    "    imgIds = dataset.getImgIds(catIds=catIds)\n",
    "    annIds = dataset.getAnnIds(imgIds=img['id'], catIds=catIds, iscrowd=None)\n",
    "    anns = dataset.loadAnns(annIds)\n",
    "    for i in range (len(imgIds)):\n",
    "      #print(catIds)\n",
    "      try:\n",
    "        os.mkdir(path + str(imgIds[i]))\n",
    "      except:\n",
    "        pass\n",
    "      img_buf = dataset.loadImgs(imgIds[i])[0]\n",
    "      #os.mkdir(path+str(img['id'])+'/'+label)\n",
    "      I = io.imread('%s/images/%s/%s'%(dataDir,dataType,img_buf['file_name']))\n",
    "      io.imsave(path+str(img_buf['id'])+'/' + \"original.png\", I)\n",
    "      try:\n",
    "        io.imsave(\"/home/madmax/Documents/SK_articles/to_git/tester/\"+img_buf['file_name'], I)\n",
    "      except:\n",
    "        pass\n",
    "      os.mkdir(path + str(img_buf['id'])+'/' + class_name)     \n",
    "      annIds = coco.getAnnIds(imgIds=img_buf['id'], catIds=catIds, iscrowd=None)\n",
    "      anns = coco.loadAnns(annIds)\n",
    "      mask = dataset.annToMask(anns[0])\n",
    "      io.imsave(path+str(img_buf['id'])+'/' + class_name + '/' + \"0.png\", mask)\n",
    "   "
   ]
  },
  {
   "cell_type": "code",
   "execution_count": 10,
   "id": "6e80ebce-a79d-4a9e-bfdf-0efdcbbdd7f6",
   "metadata": {
    "tags": []
   },
   "outputs": [
    {
     "name": "stdout",
     "output_type": "stream",
     "text": [
      "OK\n"
     ]
    }
   ],
   "source": [
    "import warnings\n",
    "warnings.filterwarnings(\"ignore\")\n",
    "make_img_dirs_and_masks(\"back_left_light\",coco, path)\n",
    "make_img_dirs_and_masks(\"back_right_light\",coco, path)\n",
    "make_img_dirs_and_masks(\"front_right_light\",coco, path)\n",
    "make_img_dirs_and_masks(\"front_left_light\",coco, path)\n",
    "print(\"OK\")"
   ]
  },
  {
   "cell_type": "code",
   "execution_count": 11,
   "id": "9f964da4-9d2f-44eb-a98c-20247b4950da",
   "metadata": {
    "tags": []
   },
   "outputs": [
    {
     "data": {
      "image/png": "[encoded data removed]",
      "text/plain": [
       "<Figure size 640x480 with 1 Axes>"
      ]
     },
     "metadata": {},
     "output_type": "display_data"
    }
   ],
   "source": [
    "#checking\n",
    "I = io.imread(\"final_dataset/295279771/front_left_light/0.png\")\n",
    "I2= io.imread(\"final_dataset/295279771/front_right_light/0.png\")\n",
    "plt.imshow(I+I2)\n",
    "plt.show()"
   ]
  },
  {
   "cell_type": "code",
   "execution_count": 57,
   "id": "6a8e36b9-a159-4ddd-ad6f-33687fc4e0cb",
   "metadata": {},
   "outputs": [],
   "source": [
    "#if we want to check \n",
    "import os\n",
    "arr = os.listdir('tester')\n",
    "arr2 = os.listdir('all_car_data/coco_dataset_1/images')"
   ]
  },
  {
   "cell_type": "code",
   "execution_count": 63,
   "id": "88df464f-7925-4969-bf9c-9c8bfdf0dd30",
   "metadata": {},
   "outputs": [
    {
     "data": {
      "text/plain": [
       "['train129.jpg',\n",
       " 'train369.jpg',\n",
       " 'train220.jpg',\n",
       " 'train86.jpg',\n",
       " 'train197.jpg',\n",
       " 'train196.jpg',\n",
       " '710image.png']"
      ]
     },
     "execution_count": 63,
     "metadata": {},
     "output_type": "execute_result"
    }
   ],
   "source": [
    "def remove_common(a, b):\n",
    " \n",
    "    for i in a[:]:\n",
    "        if i in b:\n",
    "            a.remove(i)\n",
    "            b.remove(i)\n",
    "            \n",
    "remove_common(arr, arr2)           \n",
    "arr2"
   ]
  },
  {
   "cell_type": "code",
   "execution_count": null,
   "id": "4ff99327-5492-4a31-8a4e-efcbaab2b378",
   "metadata": {},
   "outputs": [],
   "source": []
  }
 ],
 "metadata": {
  "kernelspec": {
   "display_name": "Python 3 (ipykernel)",
   "language": "python",
   "name": "python3"
  },
  "language_info": {
   "codemirror_mode": {
    "name": "ipython",
    "version": 3
   },
   "file_extension": ".py",
   "mimetype": "text/x-python",
   "name": "python",
   "nbconvert_exporter": "python",
   "pygments_lexer": "ipython3",
   "version": "3.8.10"
  }
 },
 "nbformat": 4,
 "nbformat_minor": 5
}
